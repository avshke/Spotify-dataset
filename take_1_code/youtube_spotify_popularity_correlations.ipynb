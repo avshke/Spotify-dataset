{
 "cells": [
  {
   "cell_type": "code",
   "execution_count": 1,
   "metadata": {},
   "outputs": [],
   "source": [
    "import pandas as pd\n",
    "import matplotlib.pyplot as plt\n",
    "from scipy.stats import pearsonr\n",
    "import numpy as np"
   ]
  },
  {
   "cell_type": "code",
   "execution_count": 2,
   "metadata": {},
   "outputs": [
    {
     "data": {
      "text/html": [
       "<div>\n",
       "<style>\n",
       "    .dataframe thead tr:only-child th {\n",
       "        text-align: right;\n",
       "    }\n",
       "\n",
       "    .dataframe thead th {\n",
       "        text-align: left;\n",
       "    }\n",
       "\n",
       "    .dataframe tbody tr th {\n",
       "        vertical-align: top;\n",
       "    }\n",
       "</style>\n",
       "<table border=\"1\" class=\"dataframe\">\n",
       "  <thead>\n",
       "    <tr style=\"text-align: right;\">\n",
       "      <th></th>\n",
       "      <th>artist_name</th>\n",
       "      <th>track_id</th>\n",
       "      <th>track_name</th>\n",
       "      <th>acousticness</th>\n",
       "      <th>danceability</th>\n",
       "      <th>duration_ms</th>\n",
       "      <th>energy</th>\n",
       "      <th>instrumentalness</th>\n",
       "      <th>key</th>\n",
       "      <th>liveness</th>\n",
       "      <th>...</th>\n",
       "      <th>loudness_stand</th>\n",
       "      <th>loudness_norm</th>\n",
       "      <th>tempo_norm</th>\n",
       "      <th>views</th>\n",
       "      <th>upload_date</th>\n",
       "      <th>days_since_upload</th>\n",
       "      <th>days_views_ratio</th>\n",
       "      <th>youtube_popularity</th>\n",
       "      <th>spotify_popularity</th>\n",
       "      <th>youtube_spotify_popularity_ratio</th>\n",
       "    </tr>\n",
       "  </thead>\n",
       "  <tbody>\n",
       "    <tr>\n",
       "      <th>0</th>\n",
       "      <td>YG</td>\n",
       "      <td>2RM4jf1Xa9zPgMGRDiht8O</td>\n",
       "      <td>Big Bank feat. 2 Chainz, Big Sean, Nicki Minaj</td>\n",
       "      <td>0.00582</td>\n",
       "      <td>0.743</td>\n",
       "      <td>238373</td>\n",
       "      <td>0.339</td>\n",
       "      <td>0.0</td>\n",
       "      <td>1</td>\n",
       "      <td>0.0812</td>\n",
       "      <td>...</td>\n",
       "      <td>-7.678</td>\n",
       "      <td>0.792109</td>\n",
       "      <td>0.815763</td>\n",
       "      <td>156534403</td>\n",
       "      <td>Jun 23 2018</td>\n",
       "      <td>253</td>\n",
       "      <td>10000.000000</td>\n",
       "      <td>100.0</td>\n",
       "      <td>44</td>\n",
       "      <td>2.272727</td>\n",
       "    </tr>\n",
       "    <tr>\n",
       "      <th>1</th>\n",
       "      <td>YG</td>\n",
       "      <td>1tHDG53xJNGsItRA3vfVgs</td>\n",
       "      <td>BAND DRUM (feat. A$AP Rocky)</td>\n",
       "      <td>0.02440</td>\n",
       "      <td>0.846</td>\n",
       "      <td>214800</td>\n",
       "      <td>0.557</td>\n",
       "      <td>0.0</td>\n",
       "      <td>8</td>\n",
       "      <td>0.2860</td>\n",
       "      <td>...</td>\n",
       "      <td>-7.259</td>\n",
       "      <td>0.802377</td>\n",
       "      <td>0.636079</td>\n",
       "      <td>27490037</td>\n",
       "      <td>Jul 26 2018</td>\n",
       "      <td>220</td>\n",
       "      <td>10000.000000</td>\n",
       "      <td>100.0</td>\n",
       "      <td>10</td>\n",
       "      <td>10.000000</td>\n",
       "    </tr>\n",
       "    <tr>\n",
       "      <th>2</th>\n",
       "      <td>R3HAB</td>\n",
       "      <td>6Wosx2euFPMT14UXiWudMy</td>\n",
       "      <td>Radio Silence</td>\n",
       "      <td>0.02500</td>\n",
       "      <td>0.603</td>\n",
       "      <td>138913</td>\n",
       "      <td>0.723</td>\n",
       "      <td>0.0</td>\n",
       "      <td>9</td>\n",
       "      <td>0.0824</td>\n",
       "      <td>...</td>\n",
       "      <td>-5.890</td>\n",
       "      <td>0.835927</td>\n",
       "      <td>0.459895</td>\n",
       "      <td>619066</td>\n",
       "      <td>Aug 3 2018</td>\n",
       "      <td>212</td>\n",
       "      <td>2920.122642</td>\n",
       "      <td>30.0</td>\n",
       "      <td>63</td>\n",
       "      <td>0.476190</td>\n",
       "    </tr>\n",
       "  </tbody>\n",
       "</table>\n",
       "<p>3 rows × 282 columns</p>\n",
       "</div>"
      ],
      "text/plain": [
       "  artist_name                track_id  \\\n",
       "0          YG  2RM4jf1Xa9zPgMGRDiht8O   \n",
       "1          YG  1tHDG53xJNGsItRA3vfVgs   \n",
       "2       R3HAB  6Wosx2euFPMT14UXiWudMy   \n",
       "\n",
       "                                       track_name  acousticness  danceability  \\\n",
       "0  Big Bank feat. 2 Chainz, Big Sean, Nicki Minaj       0.00582         0.743   \n",
       "1                    BAND DRUM (feat. A$AP Rocky)       0.02440         0.846   \n",
       "2                                   Radio Silence       0.02500         0.603   \n",
       "\n",
       "   duration_ms  energy  instrumentalness  key  liveness  \\\n",
       "0       238373   0.339               0.0    1    0.0812   \n",
       "1       214800   0.557               0.0    8    0.2860   \n",
       "2       138913   0.723               0.0    9    0.0824   \n",
       "\n",
       "                 ...                 loudness_stand  loudness_norm  \\\n",
       "0                ...                         -7.678       0.792109   \n",
       "1                ...                         -7.259       0.802377   \n",
       "2                ...                         -5.890       0.835927   \n",
       "\n",
       "   tempo_norm      views  upload_date  days_since_upload  days_views_ratio  \\\n",
       "0    0.815763  156534403  Jun 23 2018                253      10000.000000   \n",
       "1    0.636079   27490037  Jul 26 2018                220      10000.000000   \n",
       "2    0.459895     619066   Aug 3 2018                212       2920.122642   \n",
       "\n",
       "  youtube_popularity spotify_popularity  youtube_spotify_popularity_ratio  \n",
       "0              100.0                 44                          2.272727  \n",
       "1              100.0                 10                         10.000000  \n",
       "2               30.0                 63                          0.476190  \n",
       "\n",
       "[3 rows x 282 columns]"
      ]
     },
     "execution_count": 2,
     "metadata": {},
     "output_type": "execute_result"
    }
   ],
   "source": [
    "data_set = pd.read_csv(r'random_songs_processed_dataset.csv',encoding='utf-8')\n",
    "data_set.head(3)"
   ]
  },
  {
   "cell_type": "code",
   "execution_count": 3,
   "metadata": {},
   "outputs": [
    {
     "data": {
      "text/plain": [
       "array([[<matplotlib.axes._subplots.AxesSubplot object at 0x0000029C6E2D3A58>]],\n",
       "      dtype=object)"
      ]
     },
     "execution_count": 3,
     "metadata": {},
     "output_type": "execute_result"
    },
    {
     "data": {
      "image/png": "[encoded data removed]",
      "text/plain": [
       "<matplotlib.figure.Figure at 0x29c6e21f4a8>"
      ]
     },
     "metadata": {
      "needs_background": "light"
     },
     "output_type": "display_data"
    }
   ],
   "source": [
    "data_set.hist(column='spotify_popularity',bins = 20)"
   ]
  },
  {
   "cell_type": "code",
   "execution_count": 4,
   "metadata": {},
   "outputs": [
    {
     "data": {
      "text/plain": [
       "array([[<matplotlib.axes._subplots.AxesSubplot object at 0x0000029C6F167B70>]],\n",
       "      dtype=object)"
      ]
     },
     "execution_count": 4,
     "metadata": {},
     "output_type": "execute_result"
    },
    {
     "data": {
      "image/png": "[encoded data removed]",
      "text/plain": [
       "<matplotlib.figure.Figure at 0x29c6e855470>"
      ]
     },
     "metadata": {
      "needs_background": "light"
     },
     "output_type": "display_data"
    }
   ],
   "source": [
    "data_set.hist(column='youtube_popularity',bins = 20)"
   ]
  },
  {
   "cell_type": "markdown",
   "metadata": {},
   "source": [
    "unfortunatly, the histograms of popularity are not really similar when comparing the ones given by spotify and the one we calculated from youtube (normalized ratio of youtube rate/days since uploaded). we can see that the main different is that almost a half of the youtube tracks got the score 0. We tried applying different monotonous functions that are blocked from above by 1(1-c/(x+1) and exp(-c/x)), in order to equalize the histogram. Those functions made a small change in the histogram, but the change in the pearson coeficcient was minor (max r was about 0.3)."
   ]
  },
  {
   "cell_type": "code",
   "execution_count": 5,
   "metadata": {},
   "outputs": [
    {
     "data": {
      "text/plain": [
       "17383"
      ]
     },
     "execution_count": 5,
     "metadata": {},
     "output_type": "execute_result"
    }
   ],
   "source": [
    "len(data_set[data_set.youtube_popularity==1])"
   ]
  },
  {
   "cell_type": "markdown",
   "metadata": {},
   "source": [
    "we can see that the popularity extracted from youtube and the popularity given from spotify are not correlated"
   ]
  },
  {
   "cell_type": "code",
   "execution_count": 6,
   "metadata": {},
   "outputs": [
    {
     "data": {
      "text/plain": [
       "0.2981656897218889"
      ]
     },
     "execution_count": 6,
     "metadata": {},
     "output_type": "execute_result"
    }
   ],
   "source": [
    "pearson_co,p_val = pearsonr(data_set.youtube_popularity,data_set.spotify_popularity)\n",
    "pearson_co"
   ]
  },
  {
   "cell_type": "code",
   "execution_count": 7,
   "metadata": {},
   "outputs": [
    {
     "data": {
      "text/plain": [
       "0.0"
      ]
     },
     "execution_count": 7,
     "metadata": {},
     "output_type": "execute_result"
    }
   ],
   "source": [
    "p_val"
   ]
  },
  {
   "cell_type": "code",
   "execution_count": 11,
   "metadata": {},
   "outputs": [
    {
     "data": {
      "image/png": "[encoded data removed]",
      "text/plain": [
       "<matplotlib.figure.Figure at 0x29c6ea46fd0>"
      ]
     },
     "metadata": {
      "needs_background": "light"
     },
     "output_type": "display_data"
    }
   ],
   "source": [
    "plt.scatter(data_set.youtube_popularity,data_set.spotify_popularity,s=10)\n",
    "plt.xlabel('youtube_popularity')\n",
    "plt.ylabel('spotify_popularity')\n",
    "plt.title('r = ' + str(pearson_co) + \" p = \" + str(p_val))\n",
    "plt.savefig('spotify_youtube_popularity_scatter.png')"
   ]
  }
 ],
 "metadata": {
  "kernelspec": {
   "display_name": "Python 3",
   "language": "python",
   "name": "python3"
  },
  "language_info": {
   "codemirror_mode": {
    "name": "ipython",
    "version": 3
   },
   "file_extension": ".py",
   "mimetype": "text/x-python",
   "name": "python",
   "nbconvert_exporter": "python",
   "pygments_lexer": "ipython3",
   "version": "3.5.2"
  }
 },
 "nbformat": 4,
 "nbformat_minor": 2
}
