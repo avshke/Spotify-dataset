{
 "cells": [
  {
   "cell_type": "code",
   "execution_count": 2,
   "metadata": {},
   "outputs": [
    {
     "name": "stderr",
     "output_type": "stream",
     "text": [
      "c:\\users\\netta\\appdata\\local\\programs\\python\\python35\\lib\\site-packages\\sklearn\\ensemble\\weight_boosting.py:29: DeprecationWarning: numpy.core.umath_tests is an internal NumPy module and should not be imported. It will be removed in a future NumPy release.\n",
      "  from numpy.core.umath_tests import inner1d\n"
     ]
    }
   ],
   "source": [
    "import pandas as pd\n",
    "import numpy as np\n",
    "from sklearn.model_selection import train_test_split\n",
    "from sklearn.ensemble import RandomForestRegressor\n",
    "from sklearn.linear_model import LinearRegression\n",
    "import copy"
   ]
  },
  {
   "cell_type": "code",
   "execution_count": 3,
   "metadata": {},
   "outputs": [
    {
     "data": {
      "text/html": [
       "<div>\n",
       "<style>\n",
       "    .dataframe thead tr:only-child th {\n",
       "        text-align: right;\n",
       "    }\n",
       "\n",
       "    .dataframe thead th {\n",
       "        text-align: left;\n",
       "    }\n",
       "\n",
       "    .dataframe tbody tr th {\n",
       "        vertical-align: top;\n",
       "    }\n",
       "</style>\n",
       "<table border=\"1\" class=\"dataframe\">\n",
       "  <thead>\n",
       "    <tr style=\"text-align: right;\">\n",
       "      <th></th>\n",
       "      <th>artist_name</th>\n",
       "      <th>track_id</th>\n",
       "      <th>track_name</th>\n",
       "      <th>acousticness</th>\n",
       "      <th>danceability</th>\n",
       "      <th>duration_ms</th>\n",
       "      <th>energy</th>\n",
       "      <th>instrumentalness</th>\n",
       "      <th>key</th>\n",
       "      <th>liveness</th>\n",
       "      <th>...</th>\n",
       "      <th>loudness_stand</th>\n",
       "      <th>loudness_norm</th>\n",
       "      <th>tempo_norm</th>\n",
       "      <th>views</th>\n",
       "      <th>upload_date</th>\n",
       "      <th>days_since_upload</th>\n",
       "      <th>days_views_ratio</th>\n",
       "      <th>youtube_popularity</th>\n",
       "      <th>spotify_popularity</th>\n",
       "      <th>youtube_spotify_popularity_ratio</th>\n",
       "    </tr>\n",
       "  </thead>\n",
       "  <tbody>\n",
       "    <tr>\n",
       "      <th>3322</th>\n",
       "      <td>Lord Huron</td>\n",
       "      <td>7bUgWgmd1yTYu351xFBLDL</td>\n",
       "      <td>Secret of Life</td>\n",
       "      <td>0.0211</td>\n",
       "      <td>0.531</td>\n",
       "      <td>230533</td>\n",
       "      <td>0.923</td>\n",
       "      <td>0.034800</td>\n",
       "      <td>11</td>\n",
       "      <td>0.092</td>\n",
       "      <td>...</td>\n",
       "      <td>-4.227</td>\n",
       "      <td>0.876682</td>\n",
       "      <td>0.648168</td>\n",
       "      <td>9920</td>\n",
       "      <td>Jul 30 2018</td>\n",
       "      <td>216</td>\n",
       "      <td>45.925926</td>\n",
       "      <td>1.0</td>\n",
       "      <td>48</td>\n",
       "      <td>0.020833</td>\n",
       "    </tr>\n",
       "    <tr>\n",
       "      <th>37223</th>\n",
       "      <td>Franz Joseph Haydn</td>\n",
       "      <td>5j936CS3Wfx1g5O1b62vI6</td>\n",
       "      <td>Symphony No. 100 in G Major, Hob. I:100 \"Milit...</td>\n",
       "      <td>0.9540</td>\n",
       "      <td>0.416</td>\n",
       "      <td>476107</td>\n",
       "      <td>0.182</td>\n",
       "      <td>0.802000</td>\n",
       "      <td>2</td>\n",
       "      <td>0.283</td>\n",
       "      <td>...</td>\n",
       "      <td>-15.843</td>\n",
       "      <td>0.592011</td>\n",
       "      <td>0.501598</td>\n",
       "      <td>60444</td>\n",
       "      <td>Jun 7 2014</td>\n",
       "      <td>1730</td>\n",
       "      <td>34.938728</td>\n",
       "      <td>1.0</td>\n",
       "      <td>4</td>\n",
       "      <td>0.250000</td>\n",
       "    </tr>\n",
       "    <tr>\n",
       "      <th>16756</th>\n",
       "      <td>Il Pagante</td>\n",
       "      <td>3dz3R9jDrvHldvfnSSTz3p</td>\n",
       "      <td>Dress Code</td>\n",
       "      <td>0.0232</td>\n",
       "      <td>0.859</td>\n",
       "      <td>192240</td>\n",
       "      <td>0.778</td>\n",
       "      <td>0.000001</td>\n",
       "      <td>8</td>\n",
       "      <td>0.510</td>\n",
       "      <td>...</td>\n",
       "      <td>-4.897</td>\n",
       "      <td>0.860262</td>\n",
       "      <td>0.499994</td>\n",
       "      <td>5007421</td>\n",
       "      <td>Jan 18 2018</td>\n",
       "      <td>409</td>\n",
       "      <td>10000.000000</td>\n",
       "      <td>100.0</td>\n",
       "      <td>50</td>\n",
       "      <td>2.000000</td>\n",
       "    </tr>\n",
       "  </tbody>\n",
       "</table>\n",
       "<p>3 rows × 282 columns</p>\n",
       "</div>"
      ],
      "text/plain": [
       "              artist_name                track_id  \\\n",
       "3322           Lord Huron  7bUgWgmd1yTYu351xFBLDL   \n",
       "37223  Franz Joseph Haydn  5j936CS3Wfx1g5O1b62vI6   \n",
       "16756          Il Pagante  3dz3R9jDrvHldvfnSSTz3p   \n",
       "\n",
       "                                              track_name  acousticness  \\\n",
       "3322                                      Secret of Life        0.0211   \n",
       "37223  Symphony No. 100 in G Major, Hob. I:100 \"Milit...        0.9540   \n",
       "16756                                         Dress Code        0.0232   \n",
       "\n",
       "       danceability  duration_ms  energy  instrumentalness  key  liveness  \\\n",
       "3322          0.531       230533   0.923          0.034800   11     0.092   \n",
       "37223         0.416       476107   0.182          0.802000    2     0.283   \n",
       "16756         0.859       192240   0.778          0.000001    8     0.510   \n",
       "\n",
       "                     ...                 loudness_stand  loudness_norm  \\\n",
       "3322                 ...                         -4.227       0.876682   \n",
       "37223                ...                        -15.843       0.592011   \n",
       "16756                ...                         -4.897       0.860262   \n",
       "\n",
       "       tempo_norm    views  upload_date  days_since_upload  days_views_ratio  \\\n",
       "3322     0.648168     9920  Jul 30 2018                216         45.925926   \n",
       "37223    0.501598    60444   Jun 7 2014               1730         34.938728   \n",
       "16756    0.499994  5007421  Jan 18 2018                409      10000.000000   \n",
       "\n",
       "      youtube_popularity spotify_popularity  youtube_spotify_popularity_ratio  \n",
       "3322                 1.0                 48                          0.020833  \n",
       "37223                1.0                  4                          0.250000  \n",
       "16756              100.0                 50                          2.000000  \n",
       "\n",
       "[3 rows x 282 columns]"
      ]
     },
     "execution_count": 3,
     "metadata": {},
     "output_type": "execute_result"
    }
   ],
   "source": [
    "data_set = pd.read_csv(r'random_songs_processed_dataset.csv').dropna()\n",
    "data_set.sample(3)"
   ]
  },
  {
   "cell_type": "markdown",
   "metadata": {},
   "source": [
    "we removed some categorical features such as time_signature and key. We also tried using the artist's popularity as a feature, but the model's performance didn't improve significantly. Due to that, we decided "
   ]
  },
  {
   "cell_type": "code",
   "execution_count": 4,
   "metadata": {},
   "outputs": [
    {
     "data": {
      "text/html": [
       "<div>\n",
       "<style>\n",
       "    .dataframe thead tr:only-child th {\n",
       "        text-align: right;\n",
       "    }\n",
       "\n",
       "    .dataframe thead th {\n",
       "        text-align: left;\n",
       "    }\n",
       "\n",
       "    .dataframe tbody tr th {\n",
       "        vertical-align: top;\n",
       "    }\n",
       "</style>\n",
       "<table border=\"1\" class=\"dataframe\">\n",
       "  <thead>\n",
       "    <tr style=\"text-align: right;\">\n",
       "      <th></th>\n",
       "      <th>acousticness</th>\n",
       "      <th>danceability</th>\n",
       "      <th>energy</th>\n",
       "      <th>instrumentalness</th>\n",
       "      <th>liveness</th>\n",
       "      <th>mode</th>\n",
       "      <th>speechiness</th>\n",
       "      <th>valence</th>\n",
       "      <th>duration_norm</th>\n",
       "      <th>loudness_norm</th>\n",
       "      <th>tempo_norm</th>\n",
       "    </tr>\n",
       "  </thead>\n",
       "  <tbody>\n",
       "    <tr>\n",
       "      <th>0</th>\n",
       "      <td>0.005820</td>\n",
       "      <td>0.743</td>\n",
       "      <td>0.339</td>\n",
       "      <td>0.000</td>\n",
       "      <td>0.0812</td>\n",
       "      <td>1</td>\n",
       "      <td>0.4090</td>\n",
       "      <td>0.118</td>\n",
       "      <td>0.393517</td>\n",
       "      <td>0.792109</td>\n",
       "      <td>0.815763</td>\n",
       "    </tr>\n",
       "    <tr>\n",
       "      <th>1</th>\n",
       "      <td>0.024400</td>\n",
       "      <td>0.846</td>\n",
       "      <td>0.557</td>\n",
       "      <td>0.000</td>\n",
       "      <td>0.2860</td>\n",
       "      <td>1</td>\n",
       "      <td>0.4570</td>\n",
       "      <td>0.371</td>\n",
       "      <td>0.353910</td>\n",
       "      <td>0.802377</td>\n",
       "      <td>0.636079</td>\n",
       "    </tr>\n",
       "    <tr>\n",
       "      <th>2</th>\n",
       "      <td>0.025000</td>\n",
       "      <td>0.603</td>\n",
       "      <td>0.723</td>\n",
       "      <td>0.000</td>\n",
       "      <td>0.0824</td>\n",
       "      <td>0</td>\n",
       "      <td>0.0454</td>\n",
       "      <td>0.382</td>\n",
       "      <td>0.226408</td>\n",
       "      <td>0.835927</td>\n",
       "      <td>0.459895</td>\n",
       "    </tr>\n",
       "    <tr>\n",
       "      <th>3</th>\n",
       "      <td>0.029400</td>\n",
       "      <td>0.800</td>\n",
       "      <td>0.579</td>\n",
       "      <td>0.912</td>\n",
       "      <td>0.0994</td>\n",
       "      <td>0</td>\n",
       "      <td>0.0701</td>\n",
       "      <td>0.641</td>\n",
       "      <td>0.203672</td>\n",
       "      <td>0.683299</td>\n",
       "      <td>0.492045</td>\n",
       "    </tr>\n",
       "    <tr>\n",
       "      <th>4</th>\n",
       "      <td>0.000035</td>\n",
       "      <td>0.783</td>\n",
       "      <td>0.792</td>\n",
       "      <td>0.878</td>\n",
       "      <td>0.0332</td>\n",
       "      <td>1</td>\n",
       "      <td>0.0661</td>\n",
       "      <td>0.928</td>\n",
       "      <td>0.201378</td>\n",
       "      <td>0.728416</td>\n",
       "      <td>0.480221</td>\n",
       "    </tr>\n",
       "  </tbody>\n",
       "</table>\n",
       "</div>"
      ],
      "text/plain": [
       "   acousticness  danceability  energy  instrumentalness  liveness  mode  \\\n",
       "0      0.005820         0.743   0.339             0.000    0.0812     1   \n",
       "1      0.024400         0.846   0.557             0.000    0.2860     1   \n",
       "2      0.025000         0.603   0.723             0.000    0.0824     0   \n",
       "3      0.029400         0.800   0.579             0.912    0.0994     0   \n",
       "4      0.000035         0.783   0.792             0.878    0.0332     1   \n",
       "\n",
       "   speechiness  valence  duration_norm  loudness_norm  tempo_norm  \n",
       "0       0.4090    0.118       0.393517       0.792109    0.815763  \n",
       "1       0.4570    0.371       0.353910       0.802377    0.636079  \n",
       "2       0.0454    0.382       0.226408       0.835927    0.459895  \n",
       "3       0.0701    0.641       0.203672       0.683299    0.492045  \n",
       "4       0.0661    0.928       0.201378       0.728416    0.480221  "
      ]
     },
     "execution_count": 4,
     "metadata": {},
     "output_type": "execute_result"
    }
   ],
   "source": [
    "features = data_set[['acousticness','danceability','energy','instrumentalness','liveness','mode','speechiness',\n",
    "                      'valence','duration_norm','loudness_norm','tempo_norm']]\n",
    "features.head()"
   ]
  },
  {
   "cell_type": "code",
   "execution_count": null,
   "metadata": {},
   "outputs": [],
   "source": []
  },
  {
   "cell_type": "markdown",
   "metadata": {},
   "source": [
    "# Linear Regression"
   ]
  },
  {
   "cell_type": "markdown",
   "metadata": {},
   "source": [
    "let's start with a very simple model - linear regression. at first, we tried using the only the musical features for different countries (one example country from each cluster). we got very bad results(the optimal score for this model is 1, 0 is the score for a model returning the average popularity of the training set, below 0 meanns that the model was worst than the constant one). than we tried adding the artist popularity. As we can se bellow, this model still performs poorly"
   ]
  },
  {
   "cell_type": "code",
   "execution_count": 5,
   "metadata": {},
   "outputs": [
    {
     "name": "stdout",
     "output_type": "stream",
     "text": [
      "training model on United States\n",
      "score is: 0.05736187577945384\n",
      "training model on Australia\n",
      "score is: 0.039819261474733914\n",
      "training model on Germany\n",
      "score is: 0.015042198368039439\n",
      "training model on Pakistan\n",
      "score is: 0.009536325859313188\n",
      "training model on Chile\n",
      "score is: 0.023272508734339618\n",
      "training model on Jamaica\n",
      "score is: 0.023324233415074724\n",
      "training model on Japan\n",
      "score is: 0.005352353501705376\n",
      "training model on popularity\n",
      "score is: 0.07784563298298108\n"
     ]
    }
   ],
   "source": [
    "for country in ['United States','Australia','Germany','Pakistan','Chile','Jamaica', 'Japan','popularity']:\n",
    "    print('training model on ' + country)\n",
    "    labels = data_set[country]\n",
    "    train_features, test_features, train_labels, test_labels = train_test_split(features, labels, test_size = 0.1)\n",
    "    linear_regression = LinearRegression()\n",
    "    linear_regression.fit(train_features,train_labels)\n",
    "    print('score is: ' +str(linear_regression.score(test_features,test_labels)))"
   ]
  },
  {
   "cell_type": "markdown",
   "metadata": {},
   "source": [
    "it makes sense that the connection between the different features and the song's popularity is not linear... let's try a more complex model, that can express more complicated relationships"
   ]
  },
  {
   "cell_type": "markdown",
   "metadata": {},
   "source": [
    "# Random Forest"
   ]
  },
  {
   "cell_type": "markdown",
   "metadata": {},
   "source": [
    "even when using the artist popularity feature, and trying different hyper parameters, the random forest regression performs poorly... "
   ]
  },
  {
   "cell_type": "code",
   "execution_count": 6,
   "metadata": {},
   "outputs": [
    {
     "name": "stdout",
     "output_type": "stream",
     "text": [
      "training model on United States\n",
      "score is: 0.03453017312252926\n",
      "training model on Australia\n",
      "score is: -0.006919592704920374\n",
      "training model on Germany\n",
      "score is: -0.06326479930872453\n",
      "training model on Pakistan\n",
      "score is: -0.08256427799865351\n",
      "training model on Chile\n",
      "score is: -0.05042960153647579\n",
      "training model on Jamaica\n",
      "score is: -0.04440000826237678\n",
      "training model on Japan\n",
      "score is: -0.12470749830535821\n",
      "training model on popularity\n",
      "score is: 0.06896679294124965\n"
     ]
    }
   ],
   "source": [
    "for country in ['United States','Australia','Germany','Pakistan','Chile','Jamaica', 'Japan','popularity']:\n",
    "    print('training model on ' + country)\n",
    "    labels = data_set[country]\n",
    "    train_features, test_features, train_labels, test_labels = train_test_split(features, labels, test_size = 0.1)\n",
    "    random_forest = RandomForestRegressor(n_estimators=15,max_features ='sqrt')\n",
    "    random_forest.fit(train_features,train_labels)\n",
    "    print('score is: ' + str(random_forest.score(test_features,test_labels)))"
   ]
  }
 ],
 "metadata": {
  "kernelspec": {
   "display_name": "Python 3",
   "language": "python",
   "name": "python3"
  },
  "language_info": {
   "codemirror_mode": {
    "name": "ipython",
    "version": 3
   },
   "file_extension": ".py",
   "mimetype": "text/x-python",
   "name": "python",
   "nbconvert_exporter": "python",
   "pygments_lexer": "ipython3",
   "version": "3.5.2"
  }
 },
 "nbformat": 4,
 "nbformat_minor": 2
}
