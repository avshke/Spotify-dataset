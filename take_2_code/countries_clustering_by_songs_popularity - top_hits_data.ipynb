{
 "cells": [
  {
   "cell_type": "code",
   "execution_count": 5,
   "metadata": {},
   "outputs": [],
   "source": [
    "import pandas as pd\n",
    "import numpy as np\n",
    "from sklearn.cluster import AgglomerativeClustering\n",
    "import copy\n",
    "import matplotlib.pyplot as plt  \n",
    "import scipy.cluster.hierarchy as shc\n",
    "%matplotlib inline"
   ]
  },
  {
   "cell_type": "code",
   "execution_count": 6,
   "metadata": {},
   "outputs": [],
   "source": [
    "COUNTRIES =['Argentina','Australia','Austria','Belgium','Bolivia: Plurinational State of','Brazil','Canada','Chile','Colombia',\n",
    " 'Costa Rica','Czech Republic','Denmark','Dominican Republic','Ecuador','El Salvador','Estonia','Finland','France','Germany',\n",
    " 'Greece','Guatemala','Honduras','Hong Kong','Hungary','Iceland','Indonesia','Ireland','Italy','Japan','Latvia','Lithuania',\n",
    " 'Luxembourg','Malaysia','Mexico','Netherlands','New Zealand','Norway','Panama','Paraguay','Peru','Philippines','Poland',\n",
    " 'Portugal','Singapore','Slovakia','Spain','Sweden','Switzerland','Taiwan: Province of China','Turkey',\n",
    " 'United Kingdom of Great Britain and Northern Ireland','United States of America','Uruguay']"
   ]
  },
  {
   "cell_type": "code",
   "execution_count": 7,
   "metadata": {},
   "outputs": [
    {
     "data": {
      "text/html": [
       "<div>\n",
       "<style>\n",
       "    .dataframe thead tr:only-child th {\n",
       "        text-align: right;\n",
       "    }\n",
       "\n",
       "    .dataframe thead th {\n",
       "        text-align: left;\n",
       "    }\n",
       "\n",
       "    .dataframe tbody tr th {\n",
       "        vertical-align: top;\n",
       "    }\n",
       "</style>\n",
       "<table border=\"1\" class=\"dataframe\">\n",
       "  <thead>\n",
       "    <tr style=\"text-align: right;\">\n",
       "      <th></th>\n",
       "      <th>0</th>\n",
       "      <th>1</th>\n",
       "      <th>2</th>\n",
       "      <th>3</th>\n",
       "      <th>4</th>\n",
       "      <th>5</th>\n",
       "      <th>6</th>\n",
       "      <th>7</th>\n",
       "      <th>8</th>\n",
       "      <th>9</th>\n",
       "      <th>...</th>\n",
       "      <th>21725</th>\n",
       "      <th>21726</th>\n",
       "      <th>21727</th>\n",
       "      <th>21728</th>\n",
       "      <th>21729</th>\n",
       "      <th>21730</th>\n",
       "      <th>21731</th>\n",
       "      <th>21732</th>\n",
       "      <th>21733</th>\n",
       "      <th>21734</th>\n",
       "    </tr>\n",
       "  </thead>\n",
       "  <tbody>\n",
       "    <tr>\n",
       "      <th>Argentina</th>\n",
       "      <td>0.011534</td>\n",
       "      <td>-1.0</td>\n",
       "      <td>-1.0</td>\n",
       "      <td>-1.0</td>\n",
       "      <td>-1.0</td>\n",
       "      <td>-1.000000</td>\n",
       "      <td>-1.0</td>\n",
       "      <td>-1.0</td>\n",
       "      <td>-1.0</td>\n",
       "      <td>-1.0</td>\n",
       "      <td>...</td>\n",
       "      <td>0.000056</td>\n",
       "      <td>-1.0</td>\n",
       "      <td>-1.0</td>\n",
       "      <td>-1.0</td>\n",
       "      <td>-1.0</td>\n",
       "      <td>-1.0</td>\n",
       "      <td>-1.0</td>\n",
       "      <td>-1.000000</td>\n",
       "      <td>-1.000000</td>\n",
       "      <td>-1.0</td>\n",
       "    </tr>\n",
       "    <tr>\n",
       "      <th>Australia</th>\n",
       "      <td>0.168959</td>\n",
       "      <td>-1.0</td>\n",
       "      <td>-1.0</td>\n",
       "      <td>-1.0</td>\n",
       "      <td>-1.0</td>\n",
       "      <td>0.000136</td>\n",
       "      <td>-1.0</td>\n",
       "      <td>-1.0</td>\n",
       "      <td>-1.0</td>\n",
       "      <td>-1.0</td>\n",
       "      <td>...</td>\n",
       "      <td>-1.000000</td>\n",
       "      <td>-1.0</td>\n",
       "      <td>-1.0</td>\n",
       "      <td>-1.0</td>\n",
       "      <td>-1.0</td>\n",
       "      <td>-1.0</td>\n",
       "      <td>-1.0</td>\n",
       "      <td>-1.000000</td>\n",
       "      <td>0.001342</td>\n",
       "      <td>-1.0</td>\n",
       "    </tr>\n",
       "    <tr>\n",
       "      <th>Austria</th>\n",
       "      <td>0.027543</td>\n",
       "      <td>-1.0</td>\n",
       "      <td>-1.0</td>\n",
       "      <td>-1.0</td>\n",
       "      <td>-1.0</td>\n",
       "      <td>-1.000000</td>\n",
       "      <td>-1.0</td>\n",
       "      <td>-1.0</td>\n",
       "      <td>-1.0</td>\n",
       "      <td>-1.0</td>\n",
       "      <td>...</td>\n",
       "      <td>-1.000000</td>\n",
       "      <td>-1.0</td>\n",
       "      <td>-1.0</td>\n",
       "      <td>-1.0</td>\n",
       "      <td>-1.0</td>\n",
       "      <td>-1.0</td>\n",
       "      <td>-1.0</td>\n",
       "      <td>0.000147</td>\n",
       "      <td>-1.000000</td>\n",
       "      <td>-1.0</td>\n",
       "    </tr>\n",
       "    <tr>\n",
       "      <th>Belgium</th>\n",
       "      <td>0.064163</td>\n",
       "      <td>-1.0</td>\n",
       "      <td>-1.0</td>\n",
       "      <td>-1.0</td>\n",
       "      <td>-1.0</td>\n",
       "      <td>-1.000000</td>\n",
       "      <td>-1.0</td>\n",
       "      <td>-1.0</td>\n",
       "      <td>-1.0</td>\n",
       "      <td>-1.0</td>\n",
       "      <td>...</td>\n",
       "      <td>-1.000000</td>\n",
       "      <td>-1.0</td>\n",
       "      <td>-1.0</td>\n",
       "      <td>-1.0</td>\n",
       "      <td>-1.0</td>\n",
       "      <td>-1.0</td>\n",
       "      <td>-1.0</td>\n",
       "      <td>0.000038</td>\n",
       "      <td>0.000490</td>\n",
       "      <td>-1.0</td>\n",
       "    </tr>\n",
       "    <tr>\n",
       "      <th>Bolivia: Plurinational State of</th>\n",
       "      <td>0.003637</td>\n",
       "      <td>-1.0</td>\n",
       "      <td>-1.0</td>\n",
       "      <td>-1.0</td>\n",
       "      <td>-1.0</td>\n",
       "      <td>-1.000000</td>\n",
       "      <td>-1.0</td>\n",
       "      <td>-1.0</td>\n",
       "      <td>-1.0</td>\n",
       "      <td>-1.0</td>\n",
       "      <td>...</td>\n",
       "      <td>-1.000000</td>\n",
       "      <td>-1.0</td>\n",
       "      <td>-1.0</td>\n",
       "      <td>-1.0</td>\n",
       "      <td>-1.0</td>\n",
       "      <td>-1.0</td>\n",
       "      <td>-1.0</td>\n",
       "      <td>-1.000000</td>\n",
       "      <td>-1.000000</td>\n",
       "      <td>-1.0</td>\n",
       "    </tr>\n",
       "  </tbody>\n",
       "</table>\n",
       "<p>5 rows × 21735 columns</p>\n",
       "</div>"
      ],
      "text/plain": [
       "                                    0      1      2      3      4      \\\n",
       "Argentina                        0.011534   -1.0   -1.0   -1.0   -1.0   \n",
       "Australia                        0.168959   -1.0   -1.0   -1.0   -1.0   \n",
       "Austria                          0.027543   -1.0   -1.0   -1.0   -1.0   \n",
       "Belgium                          0.064163   -1.0   -1.0   -1.0   -1.0   \n",
       "Bolivia: Plurinational State of  0.003637   -1.0   -1.0   -1.0   -1.0   \n",
       "\n",
       "                                    5      6      7      8      9      ...    \\\n",
       "Argentina                       -1.000000   -1.0   -1.0   -1.0   -1.0  ...     \n",
       "Australia                        0.000136   -1.0   -1.0   -1.0   -1.0  ...     \n",
       "Austria                         -1.000000   -1.0   -1.0   -1.0   -1.0  ...     \n",
       "Belgium                         -1.000000   -1.0   -1.0   -1.0   -1.0  ...     \n",
       "Bolivia: Plurinational State of -1.000000   -1.0   -1.0   -1.0   -1.0  ...     \n",
       "\n",
       "                                    21725  21726  21727  21728  21729  21730  \\\n",
       "Argentina                        0.000056   -1.0   -1.0   -1.0   -1.0   -1.0   \n",
       "Australia                       -1.000000   -1.0   -1.0   -1.0   -1.0   -1.0   \n",
       "Austria                         -1.000000   -1.0   -1.0   -1.0   -1.0   -1.0   \n",
       "Belgium                         -1.000000   -1.0   -1.0   -1.0   -1.0   -1.0   \n",
       "Bolivia: Plurinational State of -1.000000   -1.0   -1.0   -1.0   -1.0   -1.0   \n",
       "\n",
       "                                 21731     21732     21733  21734  \n",
       "Argentina                         -1.0 -1.000000 -1.000000   -1.0  \n",
       "Australia                         -1.0 -1.000000  0.001342   -1.0  \n",
       "Austria                           -1.0  0.000147 -1.000000   -1.0  \n",
       "Belgium                           -1.0  0.000038  0.000490   -1.0  \n",
       "Bolivia: Plurinational State of   -1.0 -1.000000 -1.000000   -1.0  \n",
       "\n",
       "[5 rows x 21735 columns]"
      ]
     },
     "execution_count": 7,
     "metadata": {},
     "output_type": "execute_result"
    }
   ],
   "source": [
    "data_set = pd.read_csv('top_hits_processed_dataset.csv',encoding = 'utf-8')\n",
    "data_set_countries_only = data_set[COUNTRIES]\n",
    "countries_with_labels = data_set_countries_only.transpose()\n",
    "countries_with_labels.head()"
   ]
  },
  {
   "cell_type": "markdown",
   "metadata": {},
   "source": [
    "we can see that all the countries has ranks for at least 250 songs, so we will not remove any countries before clustering them:"
   ]
  },
  {
   "cell_type": "code",
   "execution_count": 8,
   "metadata": {},
   "outputs": [
    {
     "data": {
      "text/plain": [
       "<matplotlib.axes._subplots.AxesSubplot at 0x185c285f518>"
      ]
     },
     "execution_count": 8,
     "metadata": {},
     "output_type": "execute_result"
    },
    {
     "data": {
      "image/png": "[encoded data removed]",
      "text/plain": [
       "<matplotlib.figure.Figure at 0x185d1f09f98>"
      ]
     },
     "metadata": {
      "needs_background": "light"
     },
     "output_type": "display_data"
    }
   ],
   "source": [
    "countries_with_labels[\"nonzeros\"] = countries_with_labels.gt(-1).sum(axis=1)\n",
    "countries_with_labels.nonzeros.hist(bins=20)"
   ]
  },
  {
   "cell_type": "code",
   "execution_count": 9,
   "metadata": {},
   "outputs": [
    {
     "data": {
      "image/png": "[encoded data removed]",
      "text/plain": [
       "<matplotlib.figure.Figure at 0x185d1f09a58>"
      ]
     },
     "metadata": {
      "needs_background": "light"
     },
     "output_type": "display_data"
    }
   ],
   "source": [
    "X = copy.deepcopy(countries_with_labels.drop(['nonzeros'], axis=1))\n",
    "plt.figure(figsize=(20, 10))  \n",
    "dend = shc.dendrogram(shc.linkage(X, method='ward'),labels =countries_with_labels.index,leaf_font_size =12,color_threshold = 100)  "
   ]
  },
  {
   "cell_type": "markdown",
   "metadata": {},
   "source": [
    "using the dendogram, it's easier to pick the number of clusters:"
   ]
  },
  {
   "cell_type": "code",
   "execution_count": 10,
   "metadata": {},
   "outputs": [],
   "source": [
    "cluster = AgglomerativeClustering(n_clusters=7, affinity='euclidean', linkage='ward')  \n",
    "cluster.fit_predict(X)\n",
    "countries_with_labels[\"labels_AgglomerativeClustering\"] = cluster.labels_"
   ]
  },
  {
   "cell_type": "markdown",
   "metadata": {},
   "source": [
    "the clusters we got are:"
   ]
  },
  {
   "cell_type": "code",
   "execution_count": 11,
   "metadata": {},
   "outputs": [
    {
     "data": {
      "text/plain": [
       "Index(['Brazil', 'Estonia', 'France', 'Greece', 'Hong Kong', 'Iceland',\n",
       "       'Indonesia', 'Italy', 'Japan', 'Latvia', 'Lithuania', 'Luxembourg',\n",
       "       'Malaysia', 'Netherlands', 'Philippines', 'Singapore', 'Slovakia',\n",
       "       'Turkey'],\n",
       "      dtype='object')"
      ]
     },
     "execution_count": 11,
     "metadata": {},
     "output_type": "execute_result"
    }
   ],
   "source": [
    "countries_with_labels[countries_with_labels.labels_AgglomerativeClustering==0].index"
   ]
  },
  {
   "cell_type": "code",
   "execution_count": 12,
   "metadata": {},
   "outputs": [
    {
     "data": {
      "text/plain": [
       "Index(['Argentina', 'Bolivia: Plurinational State of', 'Chile', 'Colombia',\n",
       "       'Costa Rica', 'Dominican Republic', 'Ecuador', 'El Salvador',\n",
       "       'Guatemala', 'Honduras', 'Mexico', 'Panama', 'Paraguay', 'Peru',\n",
       "       'Spain', 'Uruguay'],\n",
       "      dtype='object')"
      ]
     },
     "execution_count": 12,
     "metadata": {},
     "output_type": "execute_result"
    }
   ],
   "source": [
    "countries_with_labels[countries_with_labels.labels_AgglomerativeClustering==1].index"
   ]
  },
  {
   "cell_type": "code",
   "execution_count": 13,
   "metadata": {},
   "outputs": [
    {
     "data": {
      "text/plain": [
       "Index(['Australia', 'Belgium', 'Canada', 'Czech Republic', 'Hungary',\n",
       "       'New Zealand', 'Poland', 'Portugal', 'Switzerland',\n",
       "       'United States of America'],\n",
       "      dtype='object')"
      ]
     },
     "execution_count": 13,
     "metadata": {},
     "output_type": "execute_result"
    }
   ],
   "source": [
    "countries_with_labels[countries_with_labels.labels_AgglomerativeClustering==2].index"
   ]
  },
  {
   "cell_type": "code",
   "execution_count": 14,
   "metadata": {},
   "outputs": [
    {
     "data": {
      "text/plain": [
       "Index(['Taiwan: Province of China'], dtype='object')"
      ]
     },
     "execution_count": 14,
     "metadata": {},
     "output_type": "execute_result"
    }
   ],
   "source": [
    "countries_with_labels[countries_with_labels.labels_AgglomerativeClustering==3].index"
   ]
  },
  {
   "cell_type": "code",
   "execution_count": 15,
   "metadata": {},
   "outputs": [
    {
     "data": {
      "text/plain": [
       "Index(['Ireland', 'United Kingdom of Great Britain and Northern Ireland'], dtype='object')"
      ]
     },
     "execution_count": 15,
     "metadata": {},
     "output_type": "execute_result"
    }
   ],
   "source": [
    "countries_with_labels[countries_with_labels.labels_AgglomerativeClustering==4].index"
   ]
  },
  {
   "cell_type": "code",
   "execution_count": 16,
   "metadata": {},
   "outputs": [
    {
     "data": {
      "text/plain": [
       "Index(['Denmark', 'Finland', 'Norway', 'Sweden'], dtype='object')"
      ]
     },
     "execution_count": 16,
     "metadata": {},
     "output_type": "execute_result"
    }
   ],
   "source": [
    "countries_with_labels[countries_with_labels.labels_AgglomerativeClustering==5].index"
   ]
  },
  {
   "cell_type": "code",
   "execution_count": 17,
   "metadata": {},
   "outputs": [
    {
     "data": {
      "text/plain": [
       "Index(['Austria', 'Germany'], dtype='object')"
      ]
     },
     "execution_count": 17,
     "metadata": {},
     "output_type": "execute_result"
    }
   ],
   "source": [
    "countries_with_labels[countries_with_labels.labels_AgglomerativeClustering==6].index"
   ]
  },
  {
   "cell_type": "markdown",
   "metadata": {},
   "source": [
    "we can recall the clusters we got with the prevoius dataset (the one containing random songs), and see that the clustering are not very similar... some make perfect sense like [Denmark', 'Finland', 'Norway', 'Sweden'] or ['Austria', 'Germany']  or ['Ireland', 'United Kingdom of Great Britain and Northern Ireland']. others are not so obvious - it's srprising the that Greece and Japan, for example, are in the same cluster."
   ]
  }
 ],
 "metadata": {
  "kernelspec": {
   "display_name": "Python 3",
   "language": "python",
   "name": "python3"
  },
  "language_info": {
   "codemirror_mode": {
    "name": "ipython",
    "version": 3
   },
   "file_extension": ".py",
   "mimetype": "text/x-python",
   "name": "python",
   "nbconvert_exporter": "python",
   "pygments_lexer": "ipython3",
   "version": "3.5.2"
  }
 },
 "nbformat": 4,
 "nbformat_minor": 2
}
